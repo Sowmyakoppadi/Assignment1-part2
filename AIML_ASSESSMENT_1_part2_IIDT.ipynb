{
 "cells": [
  {
   "cell_type": "markdown",
   "metadata": {},
   "source": [
    "# **Python Sets and Dictionaries Task**"
   ]
  },
  {
   "cell_type": "code",
   "execution_count": 1,
   "metadata": {},
   "outputs": [],
   "source": [
    "class DataAnalyzer:\n",
    "    def __init__(self):\n",
    "        # Initialize an empty set and an empty dictionary\n",
    "        self.data_set = set()\n",
    "        self.data_dict = {}\n",
    "\n",
    "    def add_to_set(self, elements):\n",
    "        # Add elements to the set\n",
    "        self.data_set.update(elements)\n",
    "\n",
    "    def remove_from_set(self, element):\n",
    "        # Remove an element from the set if it exists\n",
    "        self.data_set.discard(element)\n",
    "\n",
    "    def get_set(self):\n",
    "        # Return the current state of the set\n",
    "        return self.data_set\n",
    "\n",
    "    def create_dictionary(self, keys, values):\n",
    "        # Create a dictionary from two lists of equal length\n",
    "        if len(keys) == len(values):\n",
    "            self.data_dict = dict(zip(keys, values))\n",
    "\n",
    "    def update_dictionary(self, key, value):\n",
    "        # Add or update a key-value pair in the dictionary\n",
    "        self.data_dict[key] = value\n",
    "\n",
    "    def get_dictionary(self):\n",
    "        # Return the current state of the dictionary\n",
    "        return self.data_dict\n",
    "\n",
    "    def search_dictionary(self, key):\n",
    "        # Check if a key exists in the dictionary\n",
    "        return key in self.data_dict\n",
    "\n",
    "    def remove_from_dictionary(self, key):\n",
    "        # Remove a key-value pair from the dictionary if it exists\n",
    "        if key in self.data_dict:\n",
    "            del self.data_dict[key]\n",
    "\n",
    "\n",
    "\n",
    "\n"
   ]
  },
  {
   "cell_type": "markdown",
   "metadata": {},
   "source": [
    "# Example usage:"
   ]
  },
  {
   "cell_type": "code",
   "execution_count": 2,
   "metadata": {},
   "outputs": [],
   "source": [
    "# Creating an instance of DataAnalyzer\n",
    "analyzer = DataAnalyzer()\n",
    "\n"
   ]
  },
  {
   "cell_type": "code",
   "execution_count": 3,
   "metadata": {},
   "outputs": [
    {
     "name": "stdout",
     "output_type": "stream",
     "text": [
      "Set: {1, 2, 3}\n"
     ]
    }
   ],
   "source": [
    "# Now you can create an instance of DataAnalyzer and use the add_to_set method\n",
    "analyzer = DataAnalyzer()\n",
    "analyzer.add_to_set([1, 2, 3])\n",
    "print(\"Set:\", analyzer.get_set())"
   ]
  },
  {
   "cell_type": "code",
   "execution_count": 4,
   "metadata": {},
   "outputs": [
    {
     "name": "stdout",
     "output_type": "stream",
     "text": [
      "Set after removal: {1, 3}\n"
     ]
    }
   ],
   "source": [
    "# Remove from set\n",
    "analyzer.remove_from_set(2)\n",
    "print(\"Set after removal:\", analyzer.get_set())\n",
    "\n"
   ]
  },
  {
   "cell_type": "code",
   "execution_count": 5,
   "metadata": {},
   "outputs": [
    {
     "name": "stdout",
     "output_type": "stream",
     "text": [
      "Set: {1, 2, 3, 4, 5, 6}\n"
     ]
    }
   ],
   "source": [
    "# Adding items to the set using the add_to_set method\n",
    "analyzer.add_to_set([1, 2, 3])\n",
    "analyzer.add_to_set([4, 5, 6])\n",
    "\n",
    "# Retrieving the set using the get_set method\n",
    "data_set = analyzer.get_set()\n",
    "\n",
    "# Printing the set\n",
    "print(\"Set:\", data_set)"
   ]
  },
  {
   "cell_type": "code",
   "execution_count": 6,
   "metadata": {},
   "outputs": [
    {
     "name": "stdout",
     "output_type": "stream",
     "text": [
      "Dictionary: {'a': 1, 'b': 2, 'c': 3}\n"
     ]
    }
   ],
   "source": [
    "# Create dictionary\n",
    "analyzer.create_dictionary(['a', 'b', 'c'], [1, 2, 3])\n",
    "print(\"Dictionary:\", analyzer.get_dictionary())\n",
    "\n"
   ]
  },
  {
   "cell_type": "code",
   "execution_count": 7,
   "metadata": {},
   "outputs": [
    {
     "name": "stdout",
     "output_type": "stream",
     "text": [
      "Updated dictionary: {'a': 1, 'b': 2, 'c': 3, 'd': 4}\n"
     ]
    }
   ],
   "source": [
    "# Update dictionary\n",
    "analyzer.update_dictionary('d', 4)\n",
    "print(\"Updated dictionary:\", analyzer.get_dictionary())\n"
   ]
  },
  {
   "cell_type": "code",
   "execution_count": 8,
   "metadata": {},
   "outputs": [
    {
     "name": "stdout",
     "output_type": "stream",
     "text": [
      "Key 'a' exists: True\n",
      "Key 'z' exists: False\n"
     ]
    }
   ],
   "source": [
    "\n",
    "# Search dictionary\n",
    "print(\"Key 'a' exists:\", analyzer.search_dictionary('a'))  # Should return True\n",
    "print(\"Key 'z' exists:\", analyzer.search_dictionary('z'))  # Should return False\n",
    "\n"
   ]
  },
  {
   "cell_type": "code",
   "execution_count": 9,
   "metadata": {},
   "outputs": [
    {
     "name": "stdout",
     "output_type": "stream",
     "text": [
      "Dictionary after removal: {'a': 1, 'c': 3, 'd': 4}\n"
     ]
    }
   ],
   "source": [
    "# Remove from dictionary\n",
    "analyzer.remove_from_dictionary('b')\n",
    "print(\"Dictionary after removal:\", analyzer.get_dictionary())\n"
   ]
  },
  {
   "cell_type": "code",
   "execution_count": null,
   "metadata": {},
   "outputs": [],
   "source": []
  }
 ],
 "metadata": {
  "colab": {
   "provenance": [],
   "toc_visible": true
  },
  "kernelspec": {
   "display_name": "Python 3 (ipykernel)",
   "language": "python",
   "name": "python3"
  },
  "language_info": {
   "codemirror_mode": {
    "name": "ipython",
    "version": 3
   },
   "file_extension": ".py",
   "mimetype": "text/x-python",
   "name": "python",
   "nbconvert_exporter": "python",
   "pygments_lexer": "ipython3",
   "version": "3.11.5"
  }
 },
 "nbformat": 4,
 "nbformat_minor": 1
}
